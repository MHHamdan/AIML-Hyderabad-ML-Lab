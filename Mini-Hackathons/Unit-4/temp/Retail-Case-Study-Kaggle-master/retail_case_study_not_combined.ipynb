{
 "cells": [
  {
   "cell_type": "code",
   "execution_count": 59,
   "metadata": {},
   "outputs": [],
   "source": [
    "import pandas as pd\n",
    "import numpy as np\n",
    "import matplotlib.pyplot as plt\n",
    "import seaborn as sns\n",
    "from sklearn.cross_validation import train_test_split\n",
    "from sklearn.metrics import accuracy_score\n",
    "from sklearn import datasets\n",
    "from sklearn.preprocessing import StandardScaler\n",
    "from sklearn.linear_model import Perceptron\n",
    "from sklearn.model_selection import GridSearchCV, train_test_split\n",
    "from sklearn.neural_network import MLPClassifier\n",
    "from sklearn import svm, datasets\n",
    "\n",
    "from sklearn.tree import DecisionTreeClassifier\n",
    "from sklearn.ensemble import RandomForestClassifier\n",
    "from sklearn.ensemble import RandomForestRegressor\n",
    "\n",
    "import xgboost\n",
    "from sklearn.metrics import explained_variance_score\n",
    "from sklearn.metrics import mean_squared_error,r2_score\n",
    "\n",
    "from sklearn.linear_model import BayesianRidge, LinearRegression\n",
    "\n",
    "#from fbprophet import Prophet\n",
    "#import keras\n",
    "#from keras.models import Sequential\n",
    "#from keras.layers import Dense\n",
    "#from keras.layers import LSTM\n",
    "#from keras.layers import Dropout"
   ]
  },
  {
   "cell_type": "code",
   "execution_count": 81,
   "metadata": {},
   "outputs": [],
   "source": [
    "train_data = pd.read_csv(\"Train_Kaggle.csv\")\n",
    "test_data = pd.read_csv(\"Test_Kaggle.csv\")\n",
    "mapping = {k: v for v, k in enumerate(train_data.ProductCategory.unique())}\n",
    "train_data['ProductCategory'] = train_data.ProductCategory.map(mapping)\n",
    "test_data['ProductCategory'] = test_data.ProductCategory.map(mapping)\n",
    "train_data = train_data.dropna(axis=0, subset=['Sales(In ThousandDollars)']) #remove row where if there is any 'NaN' value in column 'A'\n",
    "\n",
    "#train_data.head(5)"
   ]
  },
  {
   "cell_type": "code",
   "execution_count": 82,
   "metadata": {},
   "outputs": [
    {
     "data": {
      "text/plain": [
       "0"
      ]
     },
     "execution_count": 82,
     "metadata": {},
     "output_type": "execute_result"
    }
   ],
   "source": [
    "\n",
    "X_train, X_test, y_train, y_test = train_test_split( train_data.iloc[:,0:3], train_data.iloc[:,3:4], test_size = 0.2, random_state = 100)\n",
    "\n",
    "X_train = X_train.fillna(0)\n",
    "y_train = y_train.fillna(0)\n",
    "                               \n",
    "X_test = X_test.fillna(0)\n",
    "y_test = y_test.fillna(0)\n",
    "\n",
    "np.count_nonzero(X_train.isnull().values)"
   ]
  },
  {
   "cell_type": "code",
   "execution_count": 83,
   "metadata": {},
   "outputs": [],
   "source": [
    "#X_test"
   ]
  },
  {
   "cell_type": "code",
   "execution_count": 84,
   "metadata": {},
   "outputs": [
    {
     "data": {
      "text/plain": [
       "0"
      ]
     },
     "execution_count": 84,
     "metadata": {},
     "output_type": "execute_result"
    }
   ],
   "source": [
    "#X_train, X_test, y_train, y_test = train_test_split( train_data.iloc[:,0:3], train_data.iloc[:,3:4], test_size = 0.2, random_state = 100)\n",
    "X_train = train_data.iloc[:,0:3]\n",
    "y_train = train_data.iloc[:,3:4]\n",
    "X_test = test_data.iloc[:,0:3]\n",
    "#y_test = test_data.iloc[:,3:4]\n",
    "\n",
    "#columns = ['Policing_Area', 'Weekday_of_Collision', 'Hour_of_Collision', 'Day_of_Collision', 'Month_of_Collision', 'Junction_Detail', 'Carriageway_Type', 'Junction_Control' ,'Special_Conditions_at_Site', 'Ped_Crossing_HC', 'Ped_Crossing_PC']\n",
    "#X_train.drop(columns, inplace=True, axis=1)\n",
    "#X_test.drop(columns, inplace=True, axis=1)\n",
    "\n",
    "X_train = X_train.fillna(0)\n",
    "y_train = y_train.fillna(0)\n",
    "                               \n",
    "X_test = X_test.fillna(0)\n",
    "y_test = y_test.fillna(0)\n",
    "\n",
    "np.count_nonzero(X_train.isnull().values)"
   ]
  },
  {
   "cell_type": "code",
   "execution_count": 85,
   "metadata": {},
   "outputs": [
    {
     "data": {
      "text/plain": [
       "(204, 1)"
      ]
     },
     "execution_count": 85,
     "metadata": {},
     "output_type": "execute_result"
    }
   ],
   "source": [
    "y_train.shape"
   ]
  },
  {
   "cell_type": "code",
   "execution_count": 86,
   "metadata": {},
   "outputs": [
    {
     "name": "stderr",
     "output_type": "stream",
     "text": [
      "/anaconda3/lib/python3.6/site-packages/ipykernel_launcher.py:3: DataConversionWarning: A column-vector y was passed when a 1d array was expected. Please change the shape of y to (n_samples,), for example using ravel().\n",
      "  This is separate from the ipykernel package so we can avoid doing imports until\n"
     ]
    },
    {
     "data": {
      "text/plain": [
       "1984.1292761451389"
      ]
     },
     "execution_count": 86,
     "metadata": {},
     "output_type": "execute_result"
    }
   ],
   "source": [
    "model = RandomForestRegressor(100, oob_score = 1,n_jobs = 1,random_state =1)\n",
    "#model = RandomForestRegressor(100, oob_score = 1,n_jobs = 1,random_state =42)\n",
    "model.fit(X_train, y_train)\n",
    "y_pred = model.predict(X_test)\n",
    "#y_pred\n",
    "#print(model.score(X_test, y_test))\n",
    "def rmse(predictions, targets):\n",
    "    return np.sqrt(((predictions - targets) ** 2).mean())\n",
    "rmse_value = rmse(y_pred,y_test.values)\n",
    "rmse_value"
   ]
  },
  {
   "cell_type": "code",
   "execution_count": 104,
   "metadata": {},
   "outputs": [
    {
     "name": "stdout",
     "output_type": "stream",
     "text": [
      "{'colsample_bytree': 1.0, 'gamma': 0.3, 'max_depth': 4, 'min_child_weight': 4, 'subsample': 0.6}\n"
     ]
    },
    {
     "data": {
      "text/plain": [
       "array([3030.3538 ,  557.0536 , 1126.2167 , 3405.296  ,  591.9918 ,\n",
       "       1161.1553 , 4130.026  ,  730.5864 , 1266.5648 , 4232.4756 ,\n",
       "        770.1901 , 1251.1101 , 4304.3657 ,  778.2045 , 1267.8097 ,\n",
       "       3978.1284 ,  710.94653, 1222.9647 , 3900.9329 ,  651.33795,\n",
       "       1163.9568 , 4146.145  ,  712.9546 , 1223.7563 , 4338.039  ,\n",
       "        729.5168 , 1196.0896 , 4353.1196 ,  770.043  , 1234.2863 ,\n",
       "       4526.197  ,  854.4117 , 1396.1567 , 5372.8237 , 1269.6743 ,\n",
       "       1773.0586 ], dtype=float32)"
      ]
     },
     "execution_count": 104,
     "metadata": {},
     "output_type": "execute_result"
    }
   ],
   "source": [
    "# A parameter grid for XGBoost\n",
    "params = {'min_child_weight':[4,5], 'gamma':[i/10.0 for i in range(3,6)],  'subsample':[i/10.0 for i in range(6,11)],\n",
    "'colsample_bytree':[i/10.0 for i in range(6,11)], 'max_depth': [2,3,4]}\n",
    "\n",
    "# Initialize XGB and GridSearch\n",
    "xgb = xgboost.XGBRegressor(nthread=-1) \n",
    "\n",
    "grid = GridSearchCV(xgb, params)\n",
    "grid.fit(X_train, y_train)\n",
    "print(grid.best_params_)\n",
    "y_pred = grid.best_estimator_.predict(X_test)\n",
    "y_pred\n",
    "\n",
    "# Print the r2 score\n",
    "#print(r2_score(y_test, y_pred))"
   ]
  },
  {
   "cell_type": "code",
   "execution_count": 105,
   "metadata": {},
   "outputs": [
    {
     "data": {
      "text/plain": [
       "1988.5927401706663"
      ]
     },
     "execution_count": 105,
     "metadata": {},
     "output_type": "execute_result"
    }
   ],
   "source": [
    "#print(model.score(X_test, y_test))\n",
    "def rmse(predictions, targets):\n",
    "    return np.sqrt(((predictions - targets) ** 2).mean())\n",
    "rmse_value = rmse(y_pred,y_test.values)\n",
    "rmse_value"
   ]
  },
  {
   "cell_type": "code",
   "execution_count": 89,
   "metadata": {},
   "outputs": [
    {
     "data": {
      "text/html": [
       "<div>\n",
       "<style scoped>\n",
       "    .dataframe tbody tr th:only-of-type {\n",
       "        vertical-align: middle;\n",
       "    }\n",
       "\n",
       "    .dataframe tbody tr th {\n",
       "        vertical-align: top;\n",
       "    }\n",
       "\n",
       "    .dataframe thead th {\n",
       "        text-align: right;\n",
       "    }\n",
       "</style>\n",
       "<table border=\"1\" class=\"dataframe\">\n",
       "  <thead>\n",
       "    <tr style=\"text-align: right;\">\n",
       "      <th></th>\n",
       "      <th>Sales(In ThousandDollars)</th>\n",
       "    </tr>\n",
       "    <tr>\n",
       "      <th>Year</th>\n",
       "      <th></th>\n",
       "    </tr>\n",
       "  </thead>\n",
       "  <tbody>\n",
       "    <tr>\n",
       "      <th>1</th>\n",
       "      <td>3030.353760</td>\n",
       "    </tr>\n",
       "    <tr>\n",
       "      <th>2</th>\n",
       "      <td>557.053589</td>\n",
       "    </tr>\n",
       "    <tr>\n",
       "      <th>3</th>\n",
       "      <td>1126.216675</td>\n",
       "    </tr>\n",
       "    <tr>\n",
       "      <th>4</th>\n",
       "      <td>3405.295898</td>\n",
       "    </tr>\n",
       "    <tr>\n",
       "      <th>5</th>\n",
       "      <td>591.991821</td>\n",
       "    </tr>\n",
       "    <tr>\n",
       "      <th>6</th>\n",
       "      <td>1161.155273</td>\n",
       "    </tr>\n",
       "    <tr>\n",
       "      <th>7</th>\n",
       "      <td>4130.025879</td>\n",
       "    </tr>\n",
       "    <tr>\n",
       "      <th>8</th>\n",
       "      <td>730.586426</td>\n",
       "    </tr>\n",
       "    <tr>\n",
       "      <th>9</th>\n",
       "      <td>1266.564819</td>\n",
       "    </tr>\n",
       "    <tr>\n",
       "      <th>10</th>\n",
       "      <td>4232.475586</td>\n",
       "    </tr>\n",
       "    <tr>\n",
       "      <th>11</th>\n",
       "      <td>770.190125</td>\n",
       "    </tr>\n",
       "    <tr>\n",
       "      <th>12</th>\n",
       "      <td>1251.110107</td>\n",
       "    </tr>\n",
       "    <tr>\n",
       "      <th>13</th>\n",
       "      <td>4304.365723</td>\n",
       "    </tr>\n",
       "    <tr>\n",
       "      <th>14</th>\n",
       "      <td>778.204529</td>\n",
       "    </tr>\n",
       "    <tr>\n",
       "      <th>15</th>\n",
       "      <td>1267.809692</td>\n",
       "    </tr>\n",
       "    <tr>\n",
       "      <th>16</th>\n",
       "      <td>3978.128418</td>\n",
       "    </tr>\n",
       "    <tr>\n",
       "      <th>17</th>\n",
       "      <td>710.946533</td>\n",
       "    </tr>\n",
       "    <tr>\n",
       "      <th>18</th>\n",
       "      <td>1222.964722</td>\n",
       "    </tr>\n",
       "    <tr>\n",
       "      <th>19</th>\n",
       "      <td>3900.932861</td>\n",
       "    </tr>\n",
       "    <tr>\n",
       "      <th>20</th>\n",
       "      <td>651.337952</td>\n",
       "    </tr>\n",
       "    <tr>\n",
       "      <th>21</th>\n",
       "      <td>1163.956787</td>\n",
       "    </tr>\n",
       "    <tr>\n",
       "      <th>22</th>\n",
       "      <td>4146.145020</td>\n",
       "    </tr>\n",
       "    <tr>\n",
       "      <th>23</th>\n",
       "      <td>712.954590</td>\n",
       "    </tr>\n",
       "    <tr>\n",
       "      <th>24</th>\n",
       "      <td>1223.756348</td>\n",
       "    </tr>\n",
       "    <tr>\n",
       "      <th>25</th>\n",
       "      <td>4338.039062</td>\n",
       "    </tr>\n",
       "    <tr>\n",
       "      <th>26</th>\n",
       "      <td>729.516785</td>\n",
       "    </tr>\n",
       "    <tr>\n",
       "      <th>27</th>\n",
       "      <td>1196.089600</td>\n",
       "    </tr>\n",
       "    <tr>\n",
       "      <th>28</th>\n",
       "      <td>4353.119629</td>\n",
       "    </tr>\n",
       "    <tr>\n",
       "      <th>29</th>\n",
       "      <td>770.043030</td>\n",
       "    </tr>\n",
       "    <tr>\n",
       "      <th>30</th>\n",
       "      <td>1234.286255</td>\n",
       "    </tr>\n",
       "    <tr>\n",
       "      <th>31</th>\n",
       "      <td>4526.196777</td>\n",
       "    </tr>\n",
       "    <tr>\n",
       "      <th>32</th>\n",
       "      <td>854.411682</td>\n",
       "    </tr>\n",
       "    <tr>\n",
       "      <th>33</th>\n",
       "      <td>1396.156738</td>\n",
       "    </tr>\n",
       "    <tr>\n",
       "      <th>34</th>\n",
       "      <td>5372.823730</td>\n",
       "    </tr>\n",
       "    <tr>\n",
       "      <th>35</th>\n",
       "      <td>1269.674316</td>\n",
       "    </tr>\n",
       "    <tr>\n",
       "      <th>36</th>\n",
       "      <td>1773.058594</td>\n",
       "    </tr>\n",
       "  </tbody>\n",
       "</table>\n",
       "</div>"
      ],
      "text/plain": [
       "      Sales(In ThousandDollars)\n",
       "Year                           \n",
       "1                   3030.353760\n",
       "2                    557.053589\n",
       "3                   1126.216675\n",
       "4                   3405.295898\n",
       "5                    591.991821\n",
       "6                   1161.155273\n",
       "7                   4130.025879\n",
       "8                    730.586426\n",
       "9                   1266.564819\n",
       "10                  4232.475586\n",
       "11                   770.190125\n",
       "12                  1251.110107\n",
       "13                  4304.365723\n",
       "14                   778.204529\n",
       "15                  1267.809692\n",
       "16                  3978.128418\n",
       "17                   710.946533\n",
       "18                  1222.964722\n",
       "19                  3900.932861\n",
       "20                   651.337952\n",
       "21                  1163.956787\n",
       "22                  4146.145020\n",
       "23                   712.954590\n",
       "24                  1223.756348\n",
       "25                  4338.039062\n",
       "26                   729.516785\n",
       "27                  1196.089600\n",
       "28                  4353.119629\n",
       "29                   770.043030\n",
       "30                  1234.286255\n",
       "31                  4526.196777\n",
       "32                   854.411682\n",
       "33                  1396.156738\n",
       "34                  5372.823730\n",
       "35                  1269.674316\n",
       "36                  1773.058594"
      ]
     },
     "execution_count": 89,
     "metadata": {},
     "output_type": "execute_result"
    }
   ],
   "source": [
    "#df = pd.DataFrame(columns = [\"Year\",\"Sales(In ThousandDollars)\"])\n",
    "#df[\"Year\"] = X_test[\"Year\"].values\n",
    "df = pd.DataFrame(columns = [\"Sales(In ThousandDollars)\"])\n",
    "df[\"Sales(In ThousandDollars)\"] = y_pred\n",
    "df.index = np.arange(1, len(df)+1)\n",
    "df.index.name = \"Year\"\n",
    "#df.to_csv('team1_submission_RFR_v1.csv',index=False)\n",
    "df.to_csv('submission_xgb_cv_v2.csv',index=True)\n",
    "df"
   ]
  },
  {
   "cell_type": "code",
   "execution_count": null,
   "metadata": {},
   "outputs": [],
   "source": []
  }
 ],
 "metadata": {
  "kernelspec": {
   "display_name": "Python 3",
   "language": "python",
   "name": "python3"
  },
  "language_info": {
   "codemirror_mode": {
    "name": "ipython",
    "version": 3
   },
   "file_extension": ".py",
   "mimetype": "text/x-python",
   "name": "python",
   "nbconvert_exporter": "python",
   "pygments_lexer": "ipython3",
   "version": "3.6.5"
  }
 },
 "nbformat": 4,
 "nbformat_minor": 2
}
